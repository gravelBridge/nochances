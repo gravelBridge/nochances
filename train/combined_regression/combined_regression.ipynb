{
 "cells": [
  {
   "cell_type": "code",
   "execution_count": 1,
   "metadata": {},
   "outputs": [],
   "source": [
    "import json\n",
    "\n",
    "combined_data = {}\n",
    "uncategorized_data = json.load(open('../../scraping/combined_collegeresults_data.json', 'r'))\n",
    "standardized_output = json.load(open('../../categorization/standardized_output.json', 'r'))\n",
    "\n",
    "for i, row in enumerate(open('../../categorization/categorized.json', 'r').readlines()):\n",
    "    numerical_data = json.loads(row)\n",
    "\n",
    "    post_id = list(uncategorized_data.keys())[i]\n",
    "    try:\n",
    "        selected_data = [\n",
    "            numerical_data['basic_info']['ethnicity'],\n",
    "            numerical_data['basic_info']['gender'],\n",
    "            numerical_data['basic_info']['income_bracket'],\n",
    "            numerical_data['basic_info']['gpa'],\n",
    "            numerical_data['basic_info']['ap_ib_courses'],\n",
    "            numerical_data['basic_info']['ap_ib_scores'],\n",
    "            numerical_data['basic_info']['test_score'],\n",
    "            numerical_data['basic_info']['location'],\n",
    "            numerical_data['basic_info']['legacy'],\n",
    "            numerical_data['basic_info']['first_gen'],\n",
    "            numerical_data['basic_info']['languages'],\n",
    "            numerical_data['basic_info']['special_talents'],\n",
    "            numerical_data['basic_info']['hooks'],\n",
    "        ] + list(numerical_data['ecs'].values()) + list(numerical_data['awards'].values())\n",
    "        results = standardized_output[post_id]['results']\n",
    "        combined_data.update({post_id:{\n",
    "            'major': standardized_output[post_id]['major'],\n",
    "            'residence': standardized_output[post_id]['residence'],\n",
    "            'extracurriculars': standardized_output[post_id]['extracurriculars'],\n",
    "            'awards': standardized_output[post_id]['awards'],\n",
    "            'numerical': selected_data,\n",
    "            'results': results\n",
    "        }})\n",
    "    except KeyError:\n",
    "        continue"
   ]
  },
  {
   "cell_type": "code",
   "execution_count": 2,
   "metadata": {},
   "outputs": [
    {
     "name": "stderr",
     "output_type": "stream",
     "text": [
      "/Users/Yourui/Documents/nochances/nochances/lib/python3.12/site-packages/tqdm/auto.py:21: TqdmWarning: IProgress not found. Please update jupyter and ipywidgets. See https://ipywidgets.readthedocs.io/en/stable/user_install.html\n",
      "  from .autonotebook import tqdm as notebook_tqdm\n",
      "[nltk_data] Downloading package stopwords to\n",
      "[nltk_data]     /Users/Yourui/nltk_data...\n",
      "[nltk_data]   Package stopwords is already up-to-date!\n"
     ]
    }
   ],
   "source": [
    "import torch\n",
    "import nltk\n",
    "from combined_regressor import CombinedResultRegressor, CombinedCollegeResultsDataset\n",
    "\n",
    "nltk.download('stopwords')\n",
    "nltk_stopwords = set(nltk.corpus.stopwords.words('english'))"
   ]
  },
  {
   "cell_type": "code",
   "execution_count": 3,
   "metadata": {},
   "outputs": [],
   "source": [
    "colleges_list = open('../../categorization/all-colleges.txt').readlines()\n",
    "colleges_list = [college[:college.index(' (')] for college in colleges_list]\n",
    "\n",
    "dataset =  CombinedCollegeResultsDataset(combined_data, colleges_list, nltk_stopwords)"
   ]
  },
  {
   "cell_type": "code",
   "execution_count": null,
   "metadata": {},
   "outputs": [],
   "source": [
    "full_data_size = len(dataset)\n",
    "train_size = int(full_data_size * 0.8)\n",
    "print(f\"Train Data Size: {train_size}\")\n",
    "\n",
    "batch_size = 128\n",
    "train_dataset, test_dataset = torch.utils.data.random_split(dataset, [train_size, full_data_size - train_size])\n",
    "train_loader = torch.utils.data.DataLoader(train_dataset, batch_size=batch_size, shuffle=True, num_workers=2)\n",
    "test_loader = torch.utils.data.DataLoader(test_dataset, batch_size=batch_size, shuffle=True, num_workers=2)"
   ]
  },
  {
   "cell_type": "code",
   "execution_count": null,
   "metadata": {},
   "outputs": [],
   "source": [
    "if torch.cuda.is_available():\n",
    "    device = torch.device('cuda')\n",
    "elif torch.backends.mps.is_available():\n",
    "    device = torch.device('mps')\n",
    "else:\n",
    "    device = torch.device('cpu')\n",
    "device"
   ]
  },
  {
   "cell_type": "code",
   "execution_count": null,
   "metadata": {},
   "outputs": [],
   "source": [
    "def train_model(model, train_loader, val_loader, criterion, optimizer, scheduler, n_epochs, device):\n",
    "    best_val_acc = 0\n",
    "    for epoch in range(n_epochs):\n",
    "        for param_group in optimizer.param_groups:\n",
    "            print(f\"Current learning rate: {param_group['lr']}\")\n",
    "\n",
    "        model.train()\n",
    "        train_loss = 0.0\n",
    "        train_correct = 0\n",
    "        train_total = 0\n",
    "\n",
    "        for i, batch in enumerate(train_loader):\n",
    "            optimizer.zero_grad()\n",
    "\n",
    "            for k, v in batch.items():\n",
    "                batch[k] = v.to(device)\n",
    "\n",
    "            outputs = model(batch)\n",
    "            loss = criterion(outputs, batch['target'])\n",
    "\n",
    "            loss.backward()\n",
    "            torch.nn.utils.clip_grad_norm_(model.parameters(), max_norm=1.0)\n",
    "            optimizer.step()\n",
    "\n",
    "            train_loss += loss.item()\n",
    "            train_total += batch['target'].size(0)\n",
    "            train_correct += ((outputs > 0.5) == batch['target']).sum().item()\n",
    "\n",
    "        train_loss /= len(train_loader)\n",
    "        train_acc = train_correct / train_total\n",
    "\n",
    "        # Validation\n",
    "        model.eval()\n",
    "        val_loss = 0.0\n",
    "        val_correct = 0\n",
    "        val_total = 0\n",
    "\n",
    "        with torch.no_grad():\n",
    "            for batch in val_loader:\n",
    "                for k, v in batch.items():\n",
    "                    batch[k] = v.to(device)\n",
    "\n",
    "                outputs = model(batch)\n",
    "                loss = criterion(outputs, batch['target'])\n",
    "\n",
    "                val_loss += loss.item()\n",
    "                val_total += batch['target'].size(0)\n",
    "                val_correct += ((outputs > 0.5) == batch['target']).sum().item()\n",
    "\n",
    "            print(outputs)\n",
    "\n",
    "        val_loss /= len(val_loader)\n",
    "        val_acc = val_correct / val_total\n",
    "\n",
    "        scheduler.step(val_loss)\n",
    "\n",
    "        print(f'Epoch {epoch+1}/{n_epochs}:')\n",
    "        print(f'Train Loss: {train_loss:.4f}, Train Acc: {train_acc:.4f}')\n",
    "        print(f'Val Loss: {val_loss:.4f}, Val Acc: {val_acc:.4f}')\n",
    "\n",
    "        if val_acc > best_val_acc:\n",
    "            best_val_acc = val_acc\n",
    "            torch.save(model.state_dict(), 'tokenize_numerical.pt')\n",
    "\n",
    "    return model"
   ]
  },
  {
   "cell_type": "code",
   "execution_count": null,
   "metadata": {},
   "outputs": [],
   "source": [
    "model = CombinedResultRegressor().to(device)\n",
    "\n",
    "criterion = torch.nn.BCEWithLogitsLoss()\n",
    "optimizer = torch.optim.AdamW(model.parameters(), lr=0.0005, weight_decay=1e-5)\n",
    "scheduler = torch.optim.lr_scheduler.ReduceLROnPlateau(optimizer, patience=5, factor=0.5, min_lr=1e-6)\n",
    "\n",
    "n_epochs = 200\n",
    "model = train_model(model, train_loader, test_loader, criterion, optimizer, scheduler, n_epochs, device)"
   ]
  }
 ],
 "metadata": {
  "kernelspec": {
   "display_name": "nochances",
   "language": "python",
   "name": "python3"
  },
  "language_info": {
   "codemirror_mode": {
    "name": "ipython",
    "version": 3
   },
   "file_extension": ".py",
   "mimetype": "text/x-python",
   "name": "python",
   "nbconvert_exporter": "python",
   "pygments_lexer": "ipython3",
   "version": "3.12.3"
  }
 },
 "nbformat": 4,
 "nbformat_minor": 2
}
