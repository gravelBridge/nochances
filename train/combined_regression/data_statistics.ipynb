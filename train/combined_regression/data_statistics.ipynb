{
 "cells": [
  {
   "cell_type": "code",
   "execution_count": 27,
   "metadata": {},
   "outputs": [],
   "source": [
    "import torch\n",
    "import json\n",
    "\n",
    "data = torch.load('shortened_numerical_fake_data_demographicless.pt')"
   ]
  },
  {
   "cell_type": "code",
   "execution_count": 28,
   "metadata": {},
   "outputs": [],
   "source": [
    "all_numerical_data = [json.loads(line) for line in open('../../categorization/categorized.json', 'r').readlines()]"
   ]
  },
  {
   "cell_type": "code",
   "execution_count": 29,
   "metadata": {},
   "outputs": [
    {
     "data": {
      "text/plain": [
       "4227"
      ]
     },
     "execution_count": 29,
     "metadata": {},
     "output_type": "execute_result"
    }
   ],
   "source": [
    "len(all_numerical_data)"
   ]
  },
  {
   "cell_type": "code",
   "execution_count": 34,
   "metadata": {},
   "outputs": [],
   "source": [
    "all_numerical_data = [row for row in all_numerical_data if row != {'skip':True}]"
   ]
  },
  {
   "cell_type": "code",
   "execution_count": 35,
   "metadata": {},
   "outputs": [
    {
     "data": {
      "text/plain": [
       "4089"
      ]
     },
     "execution_count": 35,
     "metadata": {},
     "output_type": "execute_result"
    }
   ],
   "source": [
    "len(all_numerical_data)\n",
    "# 4089 (138 void)"
   ]
  },
  {
   "cell_type": "code",
   "execution_count": 37,
   "metadata": {},
   "outputs": [],
   "source": [
    "gpa = [row['basic_info']['gpa'] for row in all_numerical_data]"
   ]
  },
  {
   "cell_type": "code",
   "execution_count": 39,
   "metadata": {},
   "outputs": [
    {
     "data": {
      "text/plain": [
       "count    3989.000000\n",
       "mean        3.738782\n",
       "std         0.601697\n",
       "min         0.000000\n",
       "25%         4.000000\n",
       "50%         4.000000\n",
       "75%         4.000000\n",
       "max         4.000000\n",
       "dtype: float64"
      ]
     },
     "execution_count": 39,
     "metadata": {},
     "output_type": "execute_result"
    }
   ],
   "source": [
    "import pandas as pd\n",
    "pd.Series(gpa[:-100]).describe()"
   ]
  },
  {
   "cell_type": "code",
   "execution_count": 40,
   "metadata": {},
   "outputs": [
    {
     "data": {
      "text/plain": [
       "count    4089.000000\n",
       "mean        3.665199\n",
       "std         0.766957\n",
       "min         0.000000\n",
       "25%         4.000000\n",
       "50%         4.000000\n",
       "75%         4.000000\n",
       "max         4.000000\n",
       "dtype: float64"
      ]
     },
     "execution_count": 40,
     "metadata": {},
     "output_type": "execute_result"
    }
   ],
   "source": [
    "pd.Series(gpa).describe()"
   ]
  },
  {
   "cell_type": "code",
   "execution_count": 53,
   "metadata": {},
   "outputs": [
    {
     "name": "stdout",
     "output_type": "stream",
     "text": [
      "ethnicity\n",
      "   Original  Added Data\n",
      "1      2939        2990\n",
      "0       836         885\n",
      "2       214         214\n",
      "gender\n",
      "   Original  Added Data\n",
      "0      2085        2111\n",
      "1      1324        1364\n",
      "2       580         614\n",
      "income_bracket\n",
      "   Original  Added Data\n",
      "3      1438        1461\n",
      "2       896         915\n",
      "4       801         819\n",
      "1       443         463\n",
      "0       411         431\n",
      "type_school\n",
      "   Original  Added Data\n",
      "0      2832        2854\n",
      "1       999        1016\n",
      "4        82         102\n",
      "2        51          73\n",
      "3        25          44\n",
      "app_round\n",
      "   Original  Added Data\n",
      "1      2820        2871\n",
      "0      1169        1218\n",
      "gpa\n",
      "   Original  Added Data\n",
      "0        10          59\n",
      "1        20          55\n",
      "2       217         228\n",
      "3       508         512\n",
      "4      3234        3235\n",
      "ap_ib_courses\n",
      "    Original  Added Data\n",
      "0        722         738\n",
      "6        392         398\n",
      "10       316         316\n",
      "8        302         302\n",
      "7        270         271\n",
      "9        250         250\n",
      "11       246         246\n",
      "12       215         215\n",
      "13       186         186\n",
      "5        158         174\n",
      "4        147         170\n",
      "14       145         145\n",
      "3        117         135\n",
      "15       115         115\n",
      "2         96         105\n",
      "16        81          81\n",
      "1         61          72\n",
      "18        48          48\n",
      "17        47          47\n",
      "21        18          18\n",
      "20        16          16\n",
      "19        11          11\n",
      "23         6           6\n",
      "22         5           5\n",
      "24         4           4\n",
      "32         3           3\n",
      "30         3           3\n",
      "25         2           2\n",
      "26         2           2\n",
      "40         1           1\n",
      "37         1           1\n",
      "36         1           1\n",
      "27         1           1\n",
      "28         1           1\n",
      "ap_ib_scores\n",
      "   Original  Added Data\n",
      "4      1274        1277\n",
      "3      1241        1253\n",
      "0       994        1036\n",
      "2       396         406\n",
      "1        84         117\n",
      "test_score\n",
      "   Original  Added Data\n",
      "4      2435        2441\n",
      "3       709         717\n",
      "0       431         480\n",
      "2       387         401\n",
      "1        27          50\n",
      "location\n",
      "   Original  Added Data\n",
      "2      2805        2838\n",
      "1       943         972\n",
      "0       241         279\n",
      "state_status\n",
      "   Original  Added Data\n",
      "1      3248        3295\n",
      "0       741         794\n",
      "legacy\n",
      "   Original  Added Data\n",
      "1      3683        3729\n",
      "0       306         360\n",
      "intended_major\n",
      "    Original  Added Data\n",
      "5        833         843\n",
      "10       732         743\n",
      "9        580         593\n",
      "7        490         501\n",
      "6        423         435\n",
      "8        395         402\n",
      "4        279         292\n",
      "2        174         183\n",
      "3         49          55\n",
      "1         34          42\n",
      "major_alignment\n",
      "   Original  Added Data\n",
      "4      1884        1904\n",
      "3      1340        1363\n",
      "2       475         494\n",
      "5       242         261\n",
      "1        48          67\n",
      "first_gen\n",
      "   Original  Added Data\n",
      "0      3370        3418\n",
      "1       619         671\n",
      "languages\n",
      "    Original  Added Data\n",
      "1       3501        3586\n",
      "2        416         431\n",
      "3         45          45\n",
      "4         16          16\n",
      "5          6           6\n",
      "7          4           4\n",
      "11         1           1\n",
      "special_talents\n",
      "   Original  Added Data\n",
      "0      1644        1698\n",
      "1      1072        1104\n",
      "2       978         985\n",
      "3       265         271\n",
      "4        30          31\n",
      "hooks\n",
      "   Original  Added Data\n",
      "0      2635        2712\n",
      "1      1108        1121\n",
      "2       189         197\n",
      "3        57          59\n",
      "accept_rate\n",
      "   Original  Added Data\n",
      "1      1890        1890\n",
      "0      1061        1061\n",
      "2       871         871\n",
      "3       167         267\n"
     ]
    }
   ],
   "source": [
    "for key in all_numerical_data[0]['basic_info'].keys():\n",
    "    all_values = [row['basic_info'][key] for row in all_numerical_data]\n",
    "    print(key)\n",
    "    print(pd.DataFrame({'Original': pd.Series(all_values[:-100]).value_counts(),\n",
    "                        'Added Data': pd.Series(all_values).value_counts()}))"
   ]
  },
  {
   "cell_type": "code",
   "execution_count": 56,
   "metadata": {},
   "outputs": [
    {
     "name": "stdout",
     "output_type": "stream",
     "text": [
      "ap_ib_courses\n",
      "          Original   Added Data\n",
      "count  3989.000000  4089.000000\n",
      "mean      7.564553     7.452433\n",
      "std       5.363998     5.353205\n",
      "min       0.000000     0.000000\n",
      "25%       4.000000     3.000000\n",
      "50%       8.000000     7.000000\n",
      "75%      11.000000    11.000000\n",
      "max      40.000000    40.000000\n"
     ]
    }
   ],
   "source": [
    "key = 'ap_ib_courses'\n",
    "all_values = [row['basic_info'][key] for row in all_numerical_data]\n",
    "print(key)\n",
    "print(pd.DataFrame({'Original': pd.Series(all_values[:-100]),\n",
    "                    'Added Data': pd.Series(all_values)}).describe())"
   ]
  }
 ],
 "metadata": {
  "kernelspec": {
   "display_name": "nochances",
   "language": "python",
   "name": "python3"
  },
  "language_info": {
   "codemirror_mode": {
    "name": "ipython",
    "version": 3
   },
   "file_extension": ".py",
   "mimetype": "text/x-python",
   "name": "python",
   "nbconvert_exporter": "python",
   "pygments_lexer": "ipython3",
   "version": "3.12.3"
  }
 },
 "nbformat": 4,
 "nbformat_minor": 2
}
