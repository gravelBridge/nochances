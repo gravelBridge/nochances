{
 "cells": [
  {
   "cell_type": "code",
   "execution_count": 6,
   "metadata": {},
   "outputs": [],
   "source": [
    "import torch\n",
    "from transformers import DistilBertModel, DistilBertTokenizer\n"
   ]
  },
  {
   "cell_type": "code",
   "execution_count": 7,
   "metadata": {},
   "outputs": [],
   "source": [
    "sample_json = {}"
   ]
  },
  {
   "cell_type": "code",
   "execution_count": 10,
   "metadata": {},
   "outputs": [],
   "source": [
    "class ResultRegressor(torch.nn.Module):\n",
    "    def __init__(self):\n",
    "        super(ResultRegressor, self).__init__()\n",
    "        self.tokenizer = DistilBertTokenizer.from_pretrained('distilbert-base-uncased')\n",
    "        \n",
    "        self.text1 = DistilBertModel.from_pretrained(\"distilbert-base-uncased\")\n",
    "        self.text2 = DistilBertModel.from_pretrained(\"distilbert-base-uncased\")\n",
    "        self.text3 = DistilBertModel.from_pretrained(\"distilbert-base-uncased\")\n",
    "        self.text4 = DistilBertModel.from_pretrained(\"distilbert-base-uncased\")\n",
    "\n",
    "        self.pc1 = torch.nn.Linear(768, 768)\n",
    "        self.pc2 = torch.nn.Linear(768, 768)\n",
    "        self.pc3 = torch.nn.Linear(768, 768)\n",
    "        self.pc4 = torch.nn.Linear(768, 768)\n",
    "        \n",
    "        self.fc1 = torch.nn.Linear(10 + 768 * 4, (10 + 768 * 4)/2)\n",
    "        self.fc2 = torch.nn.Linear((10 + 768 * 4)/2, 512)\n",
    "        self.fc3 = torch.nn.Linear(512, 128)\n",
    "        self.fc4 = torch.nn.Linear(128, 32)\n",
    "        self.fc5 = torch.nn.Linear(32, 1)\n",
    "\n",
    "        self.relu = torch.nn.ReLU()\n",
    "        self.softmax = torch.nn.Softmax()\n",
    "        self.dropout = torch.nn.Dropout(0.5)\n",
    "\n",
    "    def tokenize(self, input, max_length=3000):\n",
    "        tokenized = self.tokenizer.encode(\n",
    "            input,\n",
    "            None,\n",
    "            add_special_tokens=True,\n",
    "            max_length=max_length,\n",
    "            pad_to_max_length=True,\n",
    "            return_token_type_ids=True\n",
    "        )\n",
    "        return tokenized['input_ids'], tokenized['attention_mask']\n",
    "\n",
    "    def forward(self, x, results, college_id):\n",
    "        numerical_inputs = [int(x['ethnicity']),\n",
    "                            int(x['gender']),\n",
    "                            int(x['income_bracket']),\n",
    "                            int(x['gpa']),\n",
    "                            int(x['apib_number']),\n",
    "                            int(x['apib_scores']),\n",
    "                            int(x['standardized_test_scores']),\n",
    "                            int(results['in_state']),\n",
    "                            int(results['round']),\n",
    "                            college_id]\n",
    "        \n",
    "        major_ids, major_masks = self.tokenize(x['major'], max_length=280)\n",
    "        residence_ids, residence_masks = self.tokenize(x['residence'], max_length=280)\n",
    "        extracurricular_ids, extracurricular_masks =  self.tokenize('\\n'.join(x['extracurriculars']))\n",
    "        awards_ids, awards_masks =  self.tokenize('\\n'.join(x['awards']))\n",
    "        \n",
    "        major_pooler = self.text1(major_ids, major_masks)[0][:,0]\n",
    "        residence_pooler = self.text2(residence_ids, residence_masks)[0][:,0]\n",
    "        extraccurricular_pooler = self.text3(extracurricular_ids, extracurricular_masks)[0][:,0]\n",
    "        awards_pooler = self.text4(awards_ids, awards_masks)[0][:,0]\n",
    "\n",
    "        numerical_inputs += self.dropout(self.relu(self.pc1(major_pooler)))\n",
    "        numerical_inputs += self.dropout(self.relu(self.pc2(residence_pooler)))\n",
    "        numerical_inputs += self.dropout(self.relu(self.pc3(extraccurricular_pooler)))\n",
    "        numerical_inputs += self.dropout(self.relu(self.pc4(awards_pooler)))\n",
    "\n",
    "        x = self.fc1(numerical_inputs)\n",
    "        x = self.relu(x)\n",
    "        x = self.fc2(x)\n",
    "        x = self.relu(x)\n",
    "        x = self.fc3(x)\n",
    "        x = self.relu(x)\n",
    "        x = self.fc4(x)\n",
    "        x = self.relu(x)\n",
    "        x = self.fc5(x)\n",
    "        x = self.softmax(x)\n",
    "        return self.dropout(x)"
   ]
  },
  {
   "cell_type": "code",
   "execution_count": null,
   "metadata": {},
   "outputs": [],
   "source": []
  }
 ],
 "metadata": {
  "kernelspec": {
   "display_name": "nochances",
   "language": "python",
   "name": "python3"
  },
  "language_info": {
   "codemirror_mode": {
    "name": "ipython",
    "version": 3
   },
   "file_extension": ".py",
   "mimetype": "text/x-python",
   "name": "python",
   "nbconvert_exporter": "python",
   "pygments_lexer": "ipython3",
   "version": "3.12.3"
  }
 },
 "nbformat": 4,
 "nbformat_minor": 2
}
